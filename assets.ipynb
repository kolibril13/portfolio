{
 "cells": [
  {
   "attachments": {},
   "cell_type": "markdown",
   "metadata": {},
   "source": [
    "# _assets\n",
    "\n",
    "Assets used for the main page \"Portfolio\"."
   ]
  },
  {
   "cell_type": "code",
   "execution_count": 1,
   "metadata": {
    "tags": []
   },
   "outputs": [],
   "source": [
    "from tweet_class import Tweet"
   ]
  },
  {
   "cell_type": "markdown",
   "metadata": {},
   "source": [
    "# Projects"
   ]
  },
  {
   "cell_type": "code",
   "execution_count": 2,
   "metadata": {},
   "outputs": [
    {
     "data": {
      "text/html": [
       "<blockquote class=\"twitter-tweet\"><p lang=\"en\" dir=\"ltr\">Recently, Blender made its render engine available as a pip-installable Python package. I&#39;ve just built an experimental Jupyter widget on top of that. Still experimental, but I see lots of potential for the scientific python visualization pipeline here! <a href=\"https://t.co/1UQp4cBN9K\">pic.twitter.com/1UQp4cBN9K</a></p>&mdash; Jan-Hendrik Müller (@kolibril13) <a href=\"https://twitter.com/kolibril13/status/1699790198505353259?ref_src=twsrc%5Etfw\">September 7, 2023</a></blockquote>\n",
       "<script async src=\"https://platform.twitter.com/widgets.js\" charset=\"utf-8\"></script>\n"
      ],
      "text/plain": [
       "<tweet_class.Tweet at 0x111a61f10>"
      ]
     },
     "execution_count": 2,
     "metadata": {},
     "output_type": "execute_result"
    }
   ],
   "source": [
    "#| label: tweet-blender\n",
    "Tweet(\"https://twitter.com/kolibril13/status/1699790198505353259\")"
   ]
  },
  {
   "cell_type": "code",
   "execution_count": 3,
   "metadata": {},
   "outputs": [
    {
     "data": {
      "text/html": [
       "<blockquote class=\"twitter-tweet\"><p lang=\"en\" dir=\"ltr\">Tomography visualized! (Link to full video below) <a href=\"https://t.co/nHwHsXuLIB\">pic.twitter.com/nHwHsXuLIB</a></p>&mdash; Jan-Hendrik Müller (@kolibril13) <a href=\"https://twitter.com/kolibril13/status/1430249252199018496?ref_src=twsrc%5Etfw\">August 24, 2021</a></blockquote>\n",
       "<script async src=\"https://platform.twitter.com/widgets.js\" charset=\"utf-8\"></script>\n"
      ],
      "text/plain": [
       "<tweet_class.Tweet at 0x111a85c40>"
      ]
     },
     "execution_count": 3,
     "metadata": {},
     "output_type": "execute_result"
    }
   ],
   "source": [
    "#| label: project-tomo\n",
    "Tweet(\"https://twitter.com/kolibril13/status/1430249252199018496\")"
   ]
  },
  {
   "cell_type": "code",
   "execution_count": 4,
   "metadata": {},
   "outputs": [
    {
     "data": {
      "text/html": [
       "<blockquote class=\"twitter-tweet\"><p lang=\"en\" dir=\"ltr\">Jupyter-Splitview 0.1.0 is released! 🎉 <br>A before/after image slider for JupyterLab.<br>- Install with: pip install jupyter-splitview<br>- Try online in JupyterLite: <a href=\"https://t.co/WolbODk4X8\">https://t.co/WolbODk4X8</a> <a href=\"https://t.co/mI5mpWheBD\">pic.twitter.com/mI5mpWheBD</a></p>&mdash; Jan-Hendrik Müller (@kolibril13) <a href=\"https://twitter.com/kolibril13/status/1539992809268281345?ref_src=twsrc%5Etfw\">June 23, 2022</a></blockquote>\n",
       "<script async src=\"https://platform.twitter.com/widgets.js\" charset=\"utf-8\"></script>\n"
      ],
      "text/plain": [
       "<tweet_class.Tweet at 0x111aa6340>"
      ]
     },
     "execution_count": 4,
     "metadata": {},
     "output_type": "execute_result"
    }
   ],
   "source": [
    "#| label: project-compare_view\n",
    "Tweet(\"https://twitter.com/kolibril13/status/1539992809268281345\")"
   ]
  },
  {
   "cell_type": "code",
   "execution_count": 5,
   "metadata": {},
   "outputs": [
    {
     "data": {
      "text/html": [
       "<blockquote class=\"twitter-tweet\"><p lang=\"en\" dir=\"ltr\">This <a href=\"https://twitter.com/matplotlib?ref_src=twsrc%5Etfw\">@matplotlib</a> cheat-sheet has now a search bar 🔍 <a href=\"https://t.co/EfTlzwcH2d\">https://t.co/EfTlzwcH2d</a><br>If you have any suggestions for layout and content, let me know by replying to this tweet. <a href=\"https://t.co/Nv6gU14tBJ\">pic.twitter.com/Nv6gU14tBJ</a></p>&mdash; Jan-Hendrik Müller (@kolibril13) <a href=\"https://twitter.com/kolibril13/status/1604384666307497987?ref_src=twsrc%5Etfw\">December 18, 2022</a></blockquote>\n",
       "<script async src=\"https://platform.twitter.com/widgets.js\" charset=\"utf-8\"></script>\n"
      ],
      "text/plain": [
       "<tweet_class.Tweet at 0x111aa62b0>"
      ]
     },
     "execution_count": 5,
     "metadata": {},
     "output_type": "execute_result"
    }
   ],
   "source": [
    "#| label: project-plywood\n",
    "Tweet(\"https://twitter.com/kolibril13/status/1604384666307497987\")"
   ]
  },
  {
   "cell_type": "code",
   "execution_count": 6,
   "metadata": {},
   "outputs": [
    {
     "data": {
      "text/html": [
       "<blockquote class=\"twitter-tweet\"><p lang=\"en\" dir=\"ltr\">I&#39;m excited to share a first glimpse of jupyter-tldraw! This project will bring the whiteboard <a href=\"https://twitter.com/tldraw?ref_src=twsrc%5Etfw\">@tldraw</a> to <a href=\"https://twitter.com/ProjectJupyter?ref_src=twsrc%5Etfw\">@ProjectJupyter</a>. 1/4 <a href=\"https://t.co/F1XiUBdMyL\">pic.twitter.com/F1XiUBdMyL</a></p>&mdash; Jan-Hendrik Müller (@kolibril13) <a href=\"https://twitter.com/kolibril13/status/1661014246749261824?ref_src=twsrc%5Etfw\">May 23, 2023</a></blockquote>\n",
       "<script async src=\"https://platform.twitter.com/widgets.js\" charset=\"utf-8\"></script>\n"
      ],
      "text/plain": [
       "<tweet_class.Tweet at 0x111aa6520>"
      ]
     },
     "execution_count": 6,
     "metadata": {},
     "output_type": "execute_result"
    }
   ],
   "source": [
    "#| label: project-tldraw\n",
    "Tweet(\"https://twitter.com/kolibril13/status/1661014246749261824\")"
   ]
  },
  {
   "cell_type": "markdown",
   "metadata": {},
   "source": [
    "# MyST"
   ]
  },
  {
   "cell_type": "code",
   "execution_count": 7,
   "metadata": {},
   "outputs": [
    {
     "data": {
      "text/html": [
       "<blockquote class=\"twitter-tweet\"><p lang=\"en\" dir=\"ltr\">I recently discovered the project <a href=\"https://twitter.com/myst_tools?ref_src=twsrc%5Etfw\">@myst_tools</a>, and I think it&#39;s a really nice tool for scientific writing ✍️<br>The syntax is pleasant and referring to labelled content is just great! <a href=\"https://t.co/VClO39H4qU\">pic.twitter.com/VClO39H4qU</a></p>&mdash; Jan-Hendrik Müller (@kolibril13) <a href=\"https://twitter.com/kolibril13/status/1628168155473358848?ref_src=twsrc%5Etfw\">February 21, 2023</a></blockquote>\n",
       "<script async src=\"https://platform.twitter.com/widgets.js\" charset=\"utf-8\"></script>\n"
      ],
      "text/plain": [
       "<tweet_class.Tweet at 0x111aa66d0>"
      ]
     },
     "execution_count": 7,
     "metadata": {},
     "output_type": "execute_result"
    }
   ],
   "source": [
    "#| label: myst1\n",
    "Tweet(\"https://twitter.com/kolibril13/status/1628168155473358848\")\n",
    "\n"
   ]
  },
  {
   "cell_type": "code",
   "execution_count": 8,
   "metadata": {},
   "outputs": [
    {
     "data": {
      "text/html": [
       "<blockquote class=\"twitter-tweet\"><p lang=\"en\" dir=\"ltr\"><a href=\"https://twitter.com/MystMarkdown?ref_src=twsrc%5Etfw\">@MystMarkdown</a> + embedded interactive content = 🚀<br>Here&#39;s a demo comparing two coordinate systems: <a href=\"https://t.co/WNSUJVuOKn\">https://t.co/WNSUJVuOKn</a> <a href=\"https://t.co/S57Nz0XLbl\">pic.twitter.com/S57Nz0XLbl</a></p>&mdash; Jan-Hendrik Müller (@kolibril13) <a href=\"https://twitter.com/kolibril13/status/1684117795636666368?ref_src=twsrc%5Etfw\">July 26, 2023</a></blockquote>\n",
       "<script async src=\"https://platform.twitter.com/widgets.js\" charset=\"utf-8\"></script>\n"
      ],
      "text/plain": [
       "<tweet_class.Tweet at 0x111aa67f0>"
      ]
     },
     "execution_count": 8,
     "metadata": {},
     "output_type": "execute_result"
    }
   ],
   "source": [
    "#| label: myst2\n",
    "Tweet(\"https://twitter.com/kolibril13/status/1684117795636666368\")\n"
   ]
  },
  {
   "cell_type": "markdown",
   "metadata": {},
   "source": [
    "# Content in Manim"
   ]
  },
  {
   "cell_type": "code",
   "execution_count": 9,
   "metadata": {},
   "outputs": [
    {
     "data": {
      "text/html": [
       "<blockquote class=\"twitter-tweet\"><p lang=\"en\" dir=\"ltr\">Animating <a href=\"https://twitter.com/matplotlib?ref_src=twsrc%5Etfw\">@matplotlib</a> plots with <a href=\"https://twitter.com/manim_community?ref_src=twsrc%5Etfw\">@manim_community</a> is fun!  Parameters can be controlled with valuetrackers, and it&#39;s easy to choose rate functions, frame rates &amp; fade-in effects. Example scripts here: <a href=\"https://t.co/GKUXBTA0NZ\">https://t.co/GKUXBTA0NZ</a> <br>Ideas for use cases? Let me know in the comments 💭 <a href=\"https://t.co/ju6HgABZkl\">pic.twitter.com/ju6HgABZkl</a></p>&mdash; Jan-Hendrik Müller (@kolibril13) <a href=\"https://twitter.com/kolibril13/status/1611360596183719936?ref_src=twsrc%5Etfw\">January 6, 2023</a></blockquote>\n",
       "<script async src=\"https://platform.twitter.com/widgets.js\" charset=\"utf-8\"></script>\n"
      ],
      "text/plain": [
       "<tweet_class.Tweet at 0x111aa67c0>"
      ]
     },
     "execution_count": 9,
     "metadata": {},
     "output_type": "execute_result"
    }
   ],
   "source": [
    "#| label: manim-1\n",
    "Tweet(\"https://twitter.com/kolibril13/status/1611360596183719936\")"
   ]
  },
  {
   "cell_type": "code",
   "execution_count": 10,
   "metadata": {},
   "outputs": [
    {
     "data": {
      "text/html": [
       "<blockquote class=\"twitter-tweet\"><p lang=\"en\" dir=\"ltr\">Animating with <a href=\"https://twitter.com/manim_community?ref_src=twsrc%5Etfw\">@manim_community</a> in <a href=\"https://twitter.com/ProjectJupyter?ref_src=twsrc%5Etfw\">@ProjectJupyter</a> is a great experience! Why? Find out in this thread. 1/14</p>&mdash; Jan-Hendrik Müller (@kolibril13) <a href=\"https://twitter.com/kolibril13/status/1632072656689274882?ref_src=twsrc%5Etfw\">March 4, 2023</a></blockquote>\n",
       "<script async src=\"https://platform.twitter.com/widgets.js\" charset=\"utf-8\"></script>\n"
      ],
      "text/plain": [
       "<tweet_class.Tweet at 0x111aa6550>"
      ]
     },
     "execution_count": 10,
     "metadata": {},
     "output_type": "execute_result"
    }
   ],
   "source": [
    "#| label: manim-2\n",
    "Tweet(\"https://twitter.com/kolibril13/status/1632072656689274882\")"
   ]
  },
  {
   "cell_type": "code",
   "execution_count": 11,
   "metadata": {},
   "outputs": [
    {
     "data": {
      "text/html": [
       "<blockquote class=\"twitter-tweet\"><p lang=\"en\" dir=\"ltr\">The mobject-gallery just got a big update: <br>⬆️ Latest <a href=\"https://twitter.com/manim_community?ref_src=twsrc%5Etfw\">@manim_community</a> version<br>✨ New layout<br>🔍 Search bar <br>🌐 Visit here: <a href=\"https://t.co/IthVMsx5mw\">https://t.co/IthVMsx5mw</a><br>If you have any suggestions for layout and content, let me know by replying to this tweet. <a href=\"https://t.co/lSjc0F8AiK\">pic.twitter.com/lSjc0F8AiK</a></p>&mdash; Jan-Hendrik Müller (@kolibril13) <a href=\"https://twitter.com/kolibril13/status/1604425825348071424?ref_src=twsrc%5Etfw\">December 18, 2022</a></blockquote>\n",
       "<script async src=\"https://platform.twitter.com/widgets.js\" charset=\"utf-8\"></script>\n"
      ],
      "text/plain": [
       "<tweet_class.Tweet at 0x111aa66a0>"
      ]
     },
     "execution_count": 11,
     "metadata": {},
     "output_type": "execute_result"
    }
   ],
   "source": [
    "#| label: manim-3\n",
    "Tweet(\"https://twitter.com/kolibril13/status/1604425825348071424\")\n"
   ]
  },
  {
   "cell_type": "code",
   "execution_count": 12,
   "metadata": {},
   "outputs": [
    {
     "data": {
      "text/html": [
       "<blockquote class=\"twitter-tweet\"><p lang=\"en\" dir=\"ltr\">Do you want to share your <a href=\"https://twitter.com/manim_community?ref_src=twsrc%5Etfw\">@manim_community</a> code and animations with others? I can recommend using Jupyter <a href=\"https://twitter.com/ExecutableBooks?ref_src=twsrc%5Etfw\">@ExecutableBooks</a> on <a href=\"https://twitter.com/github?ref_src=twsrc%5Etfw\">@Github</a> pages for that! This template and video tutorial will have you set up in just a few minutes 👇<a href=\"https://t.co/xzBprj65f7\">https://t.co/xzBprj65f7</a> <a href=\"https://t.co/7eu7UoAY80\">pic.twitter.com/7eu7UoAY80</a></p>&mdash; Jan-Hendrik Müller (@kolibril13) <a href=\"https://twitter.com/kolibril13/status/1647630268679741441?ref_src=twsrc%5Etfw\">April 16, 2023</a></blockquote>\n",
       "<script async src=\"https://platform.twitter.com/widgets.js\" charset=\"utf-8\"></script>\n"
      ],
      "text/plain": [
       "<tweet_class.Tweet at 0x111aa63a0>"
      ]
     },
     "execution_count": 12,
     "metadata": {},
     "output_type": "execute_result"
    }
   ],
   "source": [
    "#| label: manim-4\n",
    "Tweet(\"https://twitter.com/kolibril13/status/1647630268679741441\")"
   ]
  },
  {
   "cell_type": "markdown",
   "metadata": {},
   "source": [
    "## Napari"
   ]
  },
  {
   "cell_type": "code",
   "execution_count": 13,
   "metadata": {},
   "outputs": [
    {
     "data": {
      "text/html": [
       "<blockquote class=\"twitter-tweet\"><p lang=\"en\" dir=\"ltr\">If you use <a href=\"https://twitter.com/napari_imaging?ref_src=twsrc%5Etfw\">@napari_imaging</a>, you might like this new interactive example gallery: <a href=\"https://t.co/2wyDhOyvxJ\">https://t.co/2wyDhOyvxJ</a> <a href=\"https://t.co/e89PMAILo9\">pic.twitter.com/e89PMAILo9</a></p>&mdash; Jan-Hendrik Müller (@kolibril13) <a href=\"https://twitter.com/kolibril13/status/1585331913220235270?ref_src=twsrc%5Etfw\">October 26, 2022</a></blockquote>\n",
       "<script async src=\"https://platform.twitter.com/widgets.js\" charset=\"utf-8\"></script>\n"
      ],
      "text/plain": [
       "<tweet_class.Tweet at 0x111aa60a0>"
      ]
     },
     "execution_count": 13,
     "metadata": {},
     "output_type": "execute_result"
    }
   ],
   "source": [
    "#| label: napari-1\n",
    "Tweet(\"https://twitter.com/kolibril13/status/1585331913220235270\")"
   ]
  },
  {
   "cell_type": "code",
   "execution_count": 14,
   "metadata": {},
   "outputs": [
    {
     "data": {
      "text/html": [
       "<blockquote class=\"twitter-tweet\"><p lang=\"en\" dir=\"ltr\">This is a reproducible video showing multiple chest-abdomen CTs. It was auto generated with a few lines of python code using <a href=\"https://twitter.com/napari_imaging?ref_src=twsrc%5Etfw\">@napari_imaging</a>  and <a href=\"https://twitter.com/manim_community?ref_src=twsrc%5Etfw\">@manim_community</a>. <br>Code here: <a href=\"https://t.co/Yx5IlDqyRt\">https://t.co/Yx5IlDqyRt</a> <a href=\"https://t.co/PRgmXvhfBx\">pic.twitter.com/PRgmXvhfBx</a></p>&mdash; Jan-Hendrik Müller (@kolibril13) <a href=\"https://twitter.com/kolibril13/status/1624023008728739846?ref_src=twsrc%5Etfw\">February 10, 2023</a></blockquote>\n",
       "<script async src=\"https://platform.twitter.com/widgets.js\" charset=\"utf-8\"></script>\n"
      ],
      "text/plain": [
       "<tweet_class.Tweet at 0x111aa6220>"
      ]
     },
     "execution_count": 14,
     "metadata": {},
     "output_type": "execute_result"
    }
   ],
   "source": [
    "#| label: napari-2\n",
    "Tweet(\"https://twitter.com/kolibril13/status/1624023008728739846\")"
   ]
  },
  {
   "cell_type": "markdown",
   "metadata": {},
   "source": [
    "# Not used assets"
   ]
  },
  {
   "cell_type": "code",
   "execution_count": 15,
   "metadata": {},
   "outputs": [
    {
     "data": {
      "text/html": [
       "<blockquote class=\"twitter-tweet\"><p lang=\"en\" dir=\"ltr\">Something I would like to use when teaching with <a href=\"https://twitter.com/ProjectJupyter?ref_src=twsrc%5Etfw\">@ProjectJupyter</a>: step-by-step cell appearance, where correct answers unlock the next section. <a href=\"https://t.co/NweljI3Xon\">pic.twitter.com/NweljI3Xon</a></p>&mdash; Jan-Hendrik Müller (@kolibril13) <a href=\"https://twitter.com/kolibril13/status/1639262409175990272?ref_src=twsrc%5Etfw\">March 24, 2023</a></blockquote>\n",
       "<script async src=\"https://platform.twitter.com/widgets.js\" charset=\"utf-8\"></script>\n"
      ],
      "text/plain": [
       "<tweet_class.Tweet at 0x111aa6cd0>"
      ]
     },
     "execution_count": 15,
     "metadata": {},
     "output_type": "execute_result"
    }
   ],
   "source": [
    "#don't use\n",
    "Tweet(\"https://twitter.com/kolibril13/status/1639262409175990272\")"
   ]
  }
 ],
 "metadata": {
  "kernelspec": {
   "display_name": "Python 3 (ipykernel)",
   "language": "python",
   "name": "python3"
  },
  "language_info": {
   "codemirror_mode": {
    "name": "ipython",
    "version": 3
   },
   "file_extension": ".py",
   "mimetype": "text/x-python",
   "name": "python",
   "nbconvert_exporter": "python",
   "pygments_lexer": "ipython3",
   "version": "3.9.15"
  }
 },
 "nbformat": 4,
 "nbformat_minor": 4
}
